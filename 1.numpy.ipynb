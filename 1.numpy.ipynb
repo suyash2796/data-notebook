{
 "cells": [
  {
   "cell_type": "markdown",
   "metadata": {},
   "source": [
    "# Numpy for Data Science"
   ]
  },
  {
   "cell_type": "markdown",
   "metadata": {},
   "source": [
    "<p>NumPy arrays are a bit like Python lists, but still very much different at the same time</p>\n",
    "<p> a NumPy array is a central data structure of the numpy library. The library’s name is short for “Numeric Python” or “Numerical Python”.</p>"
   ]
  },
  {
   "cell_type": "code",
   "execution_count": null,
   "metadata": {},
   "outputs": [],
   "source": []
  },
  {
   "cell_type": "code",
   "execution_count": 29,
   "metadata": {},
   "outputs": [
    {
     "data": {
      "text/plain": [
       "'1.16.4'"
      ]
     },
     "execution_count": 29,
     "metadata": {},
     "output_type": "execute_result"
    }
   ],
   "source": [
    "import numpy as np\n",
    "np.__version__ # to check the version of numpy installed"
   ]
  },
  {
   "cell_type": "markdown",
   "metadata": {},
   "source": [
    "<h3>arrays in numpy </h3>"
   ]
  },
  {
   "cell_type": "code",
   "execution_count": 52,
   "metadata": {},
   "outputs": [
    {
     "data": {
      "text/plain": [
       "array([1, 2, 3, 4, 5])"
      ]
     },
     "execution_count": 52,
     "metadata": {},
     "output_type": "execute_result"
    }
   ],
   "source": [
    "##Normal 1D arrays, np.array\n",
    "list1 = [1,2,3,4,5]\n",
    "np.array(list1)\n",
    "#or\n",
    "np.array([1,2,3,4,5])"
   ]
  },
  {
   "cell_type": "code",
   "execution_count": 61,
   "metadata": {},
   "outputs": [
    {
     "data": {
      "text/plain": [
       "array([1., 2., 3., 4., 5.])"
      ]
     },
     "execution_count": 61,
     "metadata": {},
     "output_type": "execute_result"
    }
   ],
   "source": [
    "#upcasting\n",
    "np.array([1,2,3,4,5.0])"
   ]
  },
  {
   "cell_type": "code",
   "execution_count": 58,
   "metadata": {},
   "outputs": [
    {
     "name": "stdout",
     "output_type": "stream",
     "text": [
      "[1 2 3 4 5]\n",
      "['1' '2' '3' '4' '5']\n",
      "[1. 2. 3. 4. 5.]\n",
      "[1.+0.j 2.+0.j 3.+0.j 4.+0.j 5.+0.j]\n"
     ]
    }
   ],
   "source": [
    "#dtypes in np.array\n",
    "def dtype_array(dtype=None):\n",
    "    print(np.array([1,2,3,4,5], dtype = dtype))\n",
    "dtype_array()# default datatype to int\n",
    "dtype_array(dtype=str)# dtype str\n",
    "dtype_array(dtype=float)# dtype str\n",
    "dtype_array(dtype=complex)#complex dtype"
   ]
  },
  {
   "cell_type": "markdown",
   "metadata": {},
   "source": [
    "<p>arange - > Return an array object satisfying the specified requirements</p>\n",
    "<p>ones -> Return a new array setting values to one</p>\n",
    "<p>zeros - >Return a new array setting values to zero</p>\n",
    "<p>empty -> Return a new uninitialized array</p>\n",
    "<p>full -> Return a new array of given shape filled with value</p>\n",
    "<p>ones_like -> Return an array of ones with shape and type of input</p>\n",
    "<p>zeros_like -> Return an array of zeros with shape and type of input</p>\n",
    "<p>empty_like -> Return an empty array with shape and type of input</p>\n",
    "<p>full_like -> Return a new array with shape of input filled with value</p>"
   ]
  },
  {
   "cell_type": "code",
   "execution_count": 27,
   "metadata": {},
   "outputs": [
    {
     "data": {
      "text/plain": [
       "array([ 1.        ,  1.18367347,  1.36734694,  1.55102041,  1.73469388,\n",
       "        1.91836735,  2.10204082,  2.28571429,  2.46938776,  2.65306122,\n",
       "        2.83673469,  3.02040816,  3.20408163,  3.3877551 ,  3.57142857,\n",
       "        3.75510204,  3.93877551,  4.12244898,  4.30612245,  4.48979592,\n",
       "        4.67346939,  4.85714286,  5.04081633,  5.2244898 ,  5.40816327,\n",
       "        5.59183673,  5.7755102 ,  5.95918367,  6.14285714,  6.32653061,\n",
       "        6.51020408,  6.69387755,  6.87755102,  7.06122449,  7.24489796,\n",
       "        7.42857143,  7.6122449 ,  7.79591837,  7.97959184,  8.16326531,\n",
       "        8.34693878,  8.53061224,  8.71428571,  8.89795918,  9.08163265,\n",
       "        9.26530612,  9.44897959,  9.63265306,  9.81632653, 10.        ])"
      ]
     },
     "execution_count": 27,
     "metadata": {},
     "output_type": "execute_result"
    }
   ],
   "source": [
    "#np.linspace\n",
    "#This function is similar to arange() function. In this function, instead of step size,\n",
    "#the number of evenly spaced values between the interval is specified\n",
    "np.linspace(1,10,50)"
   ]
  },
  {
   "cell_type": "code",
   "execution_count": 38,
   "metadata": {},
   "outputs": [
    {
     "name": "stdout",
     "output_type": "stream",
     "text": [
      "array of 3 elements ->  [0 1 2]\n",
      "array of 3 float elements -> [0. 1. 2.]\n",
      "array of number between 3 and 7(exclude) -> [3 4 5 6]\n",
      "array of number between 3 and 7(exclude) seperated by 2 -> [3 5]\n"
     ]
    }
   ],
   "source": [
    "##numpy arange\n",
    "print(\"array of 3 elements -> \", np.arange(3))\n",
    "print(\"array of 3 float elements ->\", np.arange(3.0))\n",
    "print(\"array of number between 3 and 7(exclude) ->\", np.arange(3,7))\n",
    "print(\"array of number between 3 and 7(exclude) seperated by 2 ->\", np.arange(3,7,2))"
   ]
  },
  {
   "cell_type": "code",
   "execution_count": 63,
   "metadata": {},
   "outputs": [
    {
     "name": "stdout",
     "output_type": "stream",
     "text": [
      "[ 4  9 14 19 24 29 34 39 44 49 54 59 64 69 74 79]\n",
      "[12.  13.5 15.  16.5]\n"
     ]
    }
   ],
   "source": [
    "#create your own 1D array\n",
    "def make_array(start_value=0, end_value=10, seperate_by=2):# start and end values default to 0 and 10(excluded)\n",
    "    print(np.arange(start_value, end_value, seperate_by))\n",
    "    \n",
    "make_array(4,80,5)\n",
    "make_array(12,18,1.5)"
   ]
  },
  {
   "cell_type": "code",
   "execution_count": 99,
   "metadata": {},
   "outputs": [
    {
     "name": "stdout",
     "output_type": "stream",
     "text": [
      "1D array of ones\n",
      " [1. 1. 1. 1. 1.]\n",
      "1D array of ones. dtype int\n",
      " [1 1 1 1 1]\n",
      "nd array of ones\n",
      " [[1. 1. 1. 1.]\n",
      " [1. 1. 1. 1.]\n",
      " [1. 1. 1. 1.]\n",
      " [1. 1. 1. 1.]\n",
      " [1. 1. 1. 1.]]\n",
      "nd array of ones. dtype int\n",
      " [[1 1 1 1]\n",
      " [1 1 1 1]\n",
      " [1 1 1 1]\n",
      " [1 1 1 1]\n",
      " [1 1 1 1]]\n"
     ]
    }
   ],
   "source": [
    "#np.ones\n",
    "print('1D array of ones\\n', np.ones(5))\n",
    "print('1D array of ones. dtype int\\n',np.ones((5,), dtype=int))\n",
    "\n",
    "print('nd array of ones\\n', np.ones((5,4)))\n",
    "print('nd array of ones. dtype int\\n',np.ones((5,4), dtype=int))"
   ]
  },
  {
   "cell_type": "code",
   "execution_count": 96,
   "metadata": {},
   "outputs": [
    {
     "name": "stdout",
     "output_type": "stream",
     "text": [
      "1D array of zeros\n",
      " [0. 0. 0. 0. 0. 0.]\n",
      "1D array of zeros. dtype int\n",
      " [0 0 0 0 0 0]\n",
      "nd array of zeros\n",
      " [[0. 0. 0.]\n",
      " [0. 0. 0.]]\n",
      "nd array of zeros. dtype int \n",
      " [[0 0 0 0]\n",
      " [0 0 0 0]\n",
      " [0 0 0 0]\n",
      " [0 0 0 0]\n",
      " [0 0 0 0]\n",
      " [0 0 0 0]]\n"
     ]
    }
   ],
   "source": [
    "#np.zeros\n",
    "print('1D array of zeros\\n', np.zeros(6))\n",
    "print('1D array of zeros. dtype int\\n',np.zeros((6,), dtype=int))\n",
    "\n",
    "print('nd array of zeros\\n', np.zeros((2,3)))\n",
    "print('nd array of zeros. dtype int \\n',np.zeros((6,4), dtype=int))"
   ]
  },
  {
   "cell_type": "code",
   "execution_count": 98,
   "metadata": {},
   "outputs": [
    {
     "name": "stdout",
     "output_type": "stream",
     "text": [
      "1d empty array\n",
      " [1.5e-323 2.5e-323]\n",
      "nd empty array\n",
      "  [[10 10]\n",
      " [10 10]]\n"
     ]
    }
   ],
   "source": [
    "#np.empty\n",
    "#Return a new array of given shape and type, without initializing entries.\n",
    "print('1d empty array\\n', np.empty(2)) # one dimesional\n",
    "print('nd empty array\\n ',np.empty([2, 2], dtype=int)) # multi dimesional"
   ]
  },
  {
   "cell_type": "code",
   "execution_count": 100,
   "metadata": {},
   "outputs": [
    {
     "name": "stdout",
     "output_type": "stream",
     "text": [
      "one dimesional full array \n",
      "  [inf inf inf inf inf]\n",
      "multi -dimensional full array \n",
      " [[10 10]\n",
      " [10 10]]\n"
     ]
    }
   ],
   "source": [
    "# np.full\n",
    "#Return a new array of given shape and type, filled with fill_value.\n",
    "print('one dimesional full array \\n ', np.full(5,np.inf)) # array filled with np.inf\n",
    "print('multi -dimensional full array \\n', np.full((2, 2), 10)) #array filled with 10"
   ]
  },
  {
   "cell_type": "markdown",
   "metadata": {},
   "source": [
    "<h3>nd arrays - 2d, 3d...</h3>"
   ]
  },
  {
   "cell_type": "code",
   "execution_count": 24,
   "metadata": {},
   "outputs": [
    {
     "name": "stdout",
     "output_type": "stream",
     "text": [
      "[[1 2 3]\n",
      " [4 5 6]]\n",
      "[[1 1 1]\n",
      " [1 1 1]]\n",
      "[[0 0 0]\n",
      " [0 0 0]]\n"
     ]
    }
   ],
   "source": [
    "print(np.array([[1,2,3],[4,5,6]])) #normal 2d array\n",
    "print(np.ones((2,3), dtype = int)) # ones array of shape (2,3)\n",
    "print(np.zeros((2,3), dtype = int)) # eros array of shape (2,3)"
   ]
  },
  {
   "cell_type": "code",
   "execution_count": 16,
   "metadata": {},
   "outputs": [],
   "source": [
    "#converting scaler 1d array into 2d array using reshape mathod\n",
    "np.arange(2,10,2).reshape(2,2)"
   ]
  },
  {
   "cell_type": "code",
   "execution_count": 25,
   "metadata": {},
   "outputs": [
    {
     "name": "stdout",
     "output_type": "stream",
     "text": [
      "arr shape -> (2, 2)\n",
      "arr dtype -> int64\n"
     ]
    }
   ],
   "source": [
    "# to get shape and dtype of array\n",
    "arr = np.arange(2,10,2).reshape(2,2)\n",
    "print('arr shape ->', arr.shape)\n",
    "print('arr dtype ->', arr.dtype)"
   ]
  },
  {
   "cell_type": "code",
   "execution_count": 30,
   "metadata": {},
   "outputs": [
    {
     "data": {
      "text/plain": [
       "array([[0.95368014, 0.34622359],\n",
       "       [0.42437044, 0.35883067]])"
      ]
     },
     "execution_count": 30,
     "metadata": {},
     "output_type": "execute_result"
    }
   ],
   "source": [
    "# Create an array with random values\n",
    "np.random.random((2,2))"
   ]
  },
  {
   "cell_type": "markdown",
   "metadata": {},
   "source": [
    "Some special arrays"
   ]
  },
  {
   "cell_type": "code",
   "execution_count": 36,
   "metadata": {},
   "outputs": [
    {
     "data": {
      "text/plain": [
       "array([[0, 1, 0, 0, 0],\n",
       "       [0, 0, 1, 0, 0],\n",
       "       [0, 0, 0, 1, 0],\n",
       "       [0, 0, 0, 0, 1],\n",
       "       [0, 0, 0, 0, 0]])"
      ]
     },
     "execution_count": 36,
     "metadata": {},
     "output_type": "execute_result"
    }
   ],
   "source": [
    "#Return a 2-D array with ones on the diagonal and zeros elsewhere.\n",
    "#k - int, optional\n",
    "#Index of the diagonal: 0 (the default) refers to the main diagonal, \n",
    "#a positive value refers to an upper diagonal, and a negative value to a lower diagonal.\n",
    "np.eye(5,dtype=int, k=1) "
   ]
  },
  {
   "cell_type": "code",
   "execution_count": 37,
   "metadata": {},
   "outputs": [
    {
     "data": {
      "text/plain": [
       "array([[1., 0., 0.],\n",
       "       [0., 1., 0.],\n",
       "       [0., 0., 1.]])"
      ]
     },
     "execution_count": 37,
     "metadata": {},
     "output_type": "execute_result"
    }
   ],
   "source": [
    "#Return the identity array.\n",
    "#The identity array is a square array with ones on the main diagonal.\n",
    "np.identity(3)"
   ]
  },
  {
   "cell_type": "markdown",
   "metadata": {},
   "source": [
    "<h3> Array operations </h3>"
   ]
  },
  {
   "cell_type": "markdown",
   "metadata": {},
   "source": [
    "with scalers"
   ]
  },
  {
   "cell_type": "code",
   "execution_count": 49,
   "metadata": {},
   "outputs": [
    {
     "name": "stdout",
     "output_type": "stream",
     "text": [
      "addition->\n",
      " [[2 3 4 5]\n",
      " [5 6 7 8]]\n",
      "multiplication->\n",
      " [[ 2  4  6  8]\n",
      " [ 8 10 12 14]]\n",
      "subtraction->\n",
      " [[0 1 2 3]\n",
      " [3 4 5 6]]\n",
      "division->\n",
      " [[0.5 1.  1.5 2. ]\n",
      " [2.  2.5 3.  3.5]]\n",
      "combined->\n",
      " [[10.66666667 11.66666667 12.66666667 13.66666667]\n",
      " [13.66666667 14.66666667 15.66666667 16.66666667]]\n"
     ]
    }
   ],
   "source": [
    "a = np.array(([1, 2, 3, 4],[4,5,6,7]))\n",
    "print('addition->\\n', a + 1) #addition of scaler value into array\n",
    "print('multiplication->\\n',a*2) #multiplication of scaler\n",
    "print('subtraction->\\n', a - 1) #subtraction of scaler value into array\n",
    "print('division->\\n',a/2) #division of scaler\n",
    "print('combined->\\n', (a+2)-1/3+4*2) #combined arithematic operations with scalers"
   ]
  },
  {
   "cell_type": "code",
   "execution_count": 55,
   "metadata": {},
   "outputs": [
    {
     "name": "stderr",
     "output_type": "stream",
     "text": [
      "/home/suyash/anaconda3/lib/python3.7/site-packages/ipykernel_launcher.py:2: RuntimeWarning: divide by zero encountered in true_divide\n",
      "  \n"
     ]
    },
    {
     "data": {
      "text/plain": [
       "array([[inf, inf, inf, inf],\n",
       "       [inf, inf, inf, inf]])"
      ]
     },
     "execution_count": 55,
     "metadata": {},
     "output_type": "execute_result"
    }
   ],
   "source": [
    "#division by zero\n",
    "a/0 # it gives warning but not error, we get inf in as array values"
   ]
  },
  {
   "cell_type": "code",
   "execution_count": 56,
   "metadata": {},
   "outputs": [
    {
     "data": {
      "text/plain": [
       "array([[-1.,  0.,  1.,  2.],\n",
       "       [ 2.,  3.,  4.,  5.]])"
      ]
     },
     "execution_count": 56,
     "metadata": {},
     "output_type": "execute_result"
    }
   ],
   "source": [
    "#arithematic operation on ones array\n",
    "b = np.ones(4) + 1\n",
    "a-b"
   ]
  },
  {
   "cell_type": "code",
   "execution_count": 59,
   "metadata": {},
   "outputs": [
    {
     "data": {
      "text/plain": [
       "array([ 2,  3,  6, 13, 28])"
      ]
     },
     "execution_count": 59,
     "metadata": {},
     "output_type": "execute_result"
    }
   ],
   "source": [
    "#operation on arange\n",
    "j = np.arange(5)\n",
    "2**(j + 1) - j"
   ]
  },
  {
   "cell_type": "markdown",
   "metadata": {},
   "source": [
    "<p> Element-wise operations </p>"
   ]
  },
  {
   "cell_type": "code",
   "execution_count": 63,
   "metadata": {},
   "outputs": [
    {
     "name": "stdout",
     "output_type": "stream",
     "text": [
      "equals [False  True False  True]\n",
      "greater [False False  True False]\n"
     ]
    }
   ],
   "source": [
    "#element wise comparision\n",
    "a = np.array([1, 2, 3, 4])\n",
    "b = np.array([4, 2, 2, 4])\n",
    "print('equals', a==b)\n",
    "print('greater',a>b)"
   ]
  },
  {
   "cell_type": "code",
   "execution_count": 65,
   "metadata": {},
   "outputs": [
    {
     "name": "stdout",
     "output_type": "stream",
     "text": [
      "False\n",
      "True\n"
     ]
    }
   ],
   "source": [
    "# Array-wise comparisons:\n",
    "a = np.array([1, 2, 3, 4])\n",
    "b = np.array([4, 2, 2, 4])\n",
    "c = np.array([4, 2, 2, 4])\n",
    "print(np.array_equal(a,b))\n",
    "print(np.array_equal(c,b))"
   ]
  },
  {
   "cell_type": "code",
   "execution_count": 77,
   "metadata": {},
   "outputs": [
    {
     "data": {
      "text/plain": [
       "array([[1., 1., 1.],\n",
       "       [1., 1., 1.],\n",
       "       [1., 1., 1.]])"
      ]
     },
     "execution_count": 77,
     "metadata": {},
     "output_type": "execute_result"
    }
   ],
   "source": [
    "#Array multiplication is not matrix multiplication\n",
    "o = np.ones((3, 3))\n",
    "o*o   # NOT matrix multiplication! this is array multiplication"
   ]
  },
  {
   "cell_type": "code",
   "execution_count": 78,
   "metadata": {},
   "outputs": [
    {
     "data": {
      "text/plain": [
       "array([[3., 3., 3.],\n",
       "       [3., 3., 3.],\n",
       "       [3., 3., 3.]])"
      ]
     },
     "execution_count": 78,
     "metadata": {},
     "output_type": "execute_result"
    }
   ],
   "source": [
    "#this is matrix multiplication\n",
    "o.dot(o)"
   ]
  },
  {
   "cell_type": "code",
   "execution_count": 74,
   "metadata": {},
   "outputs": [
    {
     "name": "stdout",
     "output_type": "stream",
     "text": [
      "[ True False  True False]\n",
      "[ True False  True False]\n"
     ]
    }
   ],
   "source": [
    "#Other operations\n",
    "#Logical operations:\n",
    "a = np.array([1, 0, 1, 0], dtype=bool)\n",
    "b = np.array([1, 0, 1, 0], dtype=bool)\n",
    "print(np.logical_or(a, b)) #logical or\n",
    "print(np.logical_and(a, b)) #logical and"
   ]
  },
  {
   "cell_type": "code",
   "execution_count": 73,
   "metadata": {},
   "outputs": [
    {
     "name": "stdout",
     "output_type": "stream",
     "text": [
      "[ 0.          0.84147098  0.90929743  0.14112001 -0.7568025  -0.95892427\n",
      " -0.2794155   0.6569866 ]\n",
      "[      -inf 0.         0.69314718 1.09861229 1.38629436 1.60943791\n",
      " 1.79175947 1.94591015]\n",
      "[1.00000000e+00 2.71828183e+00 7.38905610e+00 2.00855369e+01\n",
      " 5.45981500e+01 1.48413159e+02 4.03428793e+02 1.09663316e+03]\n"
     ]
    },
    {
     "name": "stderr",
     "output_type": "stream",
     "text": [
      "/home/suyash/anaconda3/lib/python3.7/site-packages/ipykernel_launcher.py:4: RuntimeWarning: divide by zero encountered in log\n",
      "  after removing the cwd from sys.path.\n"
     ]
    }
   ],
   "source": [
    "#Transcendental functions:\n",
    "a = np.arange(8)\n",
    "print(np.sin(a))\n",
    "print(np.log(a))\n",
    "print(np.exp(a))"
   ]
  },
  {
   "cell_type": "code",
   "execution_count": 72,
   "metadata": {},
   "outputs": [
    {
     "ename": "ValueError",
     "evalue": "operands could not be broadcast together with shapes (5,) (2,) ",
     "output_type": "error",
     "traceback": [
      "\u001b[0;31m---------------------------------------------------------------------------\u001b[0m",
      "\u001b[0;31mValueError\u001b[0m                                Traceback (most recent call last)",
      "\u001b[0;32m<ipython-input-72-ea8cf398a004>\u001b[0m in \u001b[0;36m<module>\u001b[0;34m\u001b[0m\n\u001b[1;32m      1\u001b[0m \u001b[0;31m#Shape mismatches. errors\u001b[0m\u001b[0;34m\u001b[0m\u001b[0;34m\u001b[0m\u001b[0;34m\u001b[0m\u001b[0m\n\u001b[1;32m      2\u001b[0m \u001b[0ma\u001b[0m \u001b[0;34m=\u001b[0m \u001b[0mnp\u001b[0m\u001b[0;34m.\u001b[0m\u001b[0marange\u001b[0m\u001b[0;34m(\u001b[0m\u001b[0;36m5\u001b[0m\u001b[0;34m)\u001b[0m\u001b[0;34m\u001b[0m\u001b[0;34m\u001b[0m\u001b[0m\n\u001b[0;32m----> 3\u001b[0;31m \u001b[0ma\u001b[0m \u001b[0;34m+\u001b[0m \u001b[0mnp\u001b[0m\u001b[0;34m.\u001b[0m\u001b[0marray\u001b[0m\u001b[0;34m(\u001b[0m\u001b[0;34m[\u001b[0m\u001b[0;36m1\u001b[0m\u001b[0;34m,\u001b[0m \u001b[0;36m2\u001b[0m\u001b[0;34m]\u001b[0m\u001b[0;34m)\u001b[0m\u001b[0;34m\u001b[0m\u001b[0;34m\u001b[0m\u001b[0m\n\u001b[0m",
      "\u001b[0;31mValueError\u001b[0m: operands could not be broadcast together with shapes (5,) (2,) "
     ]
    }
   ],
   "source": [
    "#Shape mismatches. errors\n",
    "a = np.arange(5)\n",
    "a + np.array([1, 2])  "
   ]
  },
  {
   "cell_type": "markdown",
   "metadata": {},
   "source": [
    "<h3> Indexing and slicing in numpy arrays </h3>\n",
    "<p>Contents of ndarray object can be accessed\n",
    "and modified by indexing or slicing, \n",
    "just like Python's in-built container objects.</p>"
   ]
  },
  {
   "cell_type": "code",
   "execution_count": 83,
   "metadata": {},
   "outputs": [
    {
     "name": "stdout",
     "output_type": "stream",
     "text": [
      "[1 2 3 4]\n",
      "1\n",
      "3\n"
     ]
    }
   ],
   "source": [
    "index_arr = np.array([1, 2, 3, 4])\n",
    "#array index starts with 0\n",
    "print(index_arr)\n",
    "print(index_arr[0]) # 1 \n",
    "print(index_arr[2]) # 3"
   ]
  },
  {
   "cell_type": "markdown",
   "metadata": {},
   "source": [
    "Indexing in 2 dimensions"
   ]
  },
  {
   "cell_type": "code",
   "execution_count": 87,
   "metadata": {},
   "outputs": [
    {
     "name": "stdout",
     "output_type": "stream",
     "text": [
      "8\n"
     ]
    }
   ],
   "source": [
    "array_2d = np.array([[1, 2, 3],\n",
    "              [4, 5, 6],\n",
    "              [7, 8, 9]])\n",
    "# to fetch the item from 3rd row and 2nd column\n",
    "print(array_2d[2, 1]) # 8"
   ]
  },
  {
   "cell_type": "markdown",
   "metadata": {},
   "source": [
    "Picking a row or column of a 2d array"
   ]
  },
  {
   "cell_type": "code",
   "execution_count": 92,
   "metadata": {},
   "outputs": [
    {
     "name": "stdout",
     "output_type": "stream",
     "text": [
      "first row [1 2 3]\n",
      "second column [2 5 8]\n"
     ]
    }
   ],
   "source": [
    "print('first row', array_2d[0]) # to fetch the first row\n",
    "print('second column', array_2d[:,1]) # to fetch the second column"
   ]
  },
  {
   "cell_type": "markdown",
   "metadata": {},
   "source": [
    "indexing in 3 dimesions"
   ]
  },
  {
   "cell_type": "code",
   "execution_count": 94,
   "metadata": {},
   "outputs": [],
   "source": [
    "#3d arrays\n",
    "array_3d = np.array([[[10, 11, 12], [13, 14, 15], [16, 17, 18]],\n",
    "               [[20, 21, 22], [23, 24, 25], [26, 27, 28]],\n",
    "               [[30, 31, 32], [33, 34, 35], [36, 37, 38]]])"
   ]
  },
  {
   "cell_type": "code",
   "execution_count": 111,
   "metadata": {},
   "outputs": [
    {
     "name": "stdout",
     "output_type": "stream",
     "text": [
      "31\n"
     ]
    }
   ],
   "source": [
    "# fetch 3rd matrix , 1st row, 2nd element\n",
    "print(array_3d[2, 0, 1]) # 31"
   ]
  },
  {
   "cell_type": "code",
   "execution_count": 112,
   "metadata": {},
   "outputs": [
    {
     "name": "stdout",
     "output_type": "stream",
     "text": [
      "[11 14 17]\n"
     ]
    }
   ],
   "source": [
    "# fetch first matrix, all rows, 1st column\n",
    "print(array_3d[0, :, 1]) # [11 14 17]"
   ]
  },
  {
   "cell_type": "markdown",
   "metadata": {},
   "source": [
    "Picking a matrix in a 3D array"
   ]
  },
  {
   "cell_type": "code",
   "execution_count": 115,
   "metadata": {},
   "outputs": [
    {
     "name": "stdout",
     "output_type": "stream",
     "text": [
      "fetch 3rd metrix :\n",
      " [[30 31 32]\n",
      " [33 34 35]\n",
      " [36 37 38]]\n",
      "use above matrix to open further: \n",
      " [[30 31]\n",
      " [33 34]\n",
      " [36 37]]\n"
     ]
    }
   ],
   "source": [
    "#If we only specify the i index, numpy will return the corresponding matrix.\n",
    "print('fetch 3rd metrix :\\n',array_3d[2])\n",
    "#step by step\n",
    "print('use above matrix to open further: \\n', array_3d[2][:,:2])"
   ]
  },
  {
   "cell_type": "code",
   "execution_count": 114,
   "metadata": {},
   "outputs": [
    {
     "name": "stdout",
     "output_type": "stream",
     "text": [
      "[15 25 35]\n"
     ]
    }
   ],
   "source": [
    "#fetching 2nd row and 3rd column value from all matrice\n",
    "print(array_3d[:, 1, 2]) # [15, 25, 35]"
   ]
  }
 ],
 "metadata": {
  "kernelspec": {
   "display_name": "Python 3",
   "language": "python",
   "name": "python3"
  },
  "language_info": {
   "codemirror_mode": {
    "name": "ipython",
    "version": 3
   },
   "file_extension": ".py",
   "mimetype": "text/x-python",
   "name": "python",
   "nbconvert_exporter": "python",
   "pygments_lexer": "ipython3",
   "version": "3.7.3"
  }
 },
 "nbformat": 4,
 "nbformat_minor": 2
}
